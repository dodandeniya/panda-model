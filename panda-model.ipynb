{
 "cells": [
  {
   "cell_type": "markdown",
   "metadata": {
    "colab_type": "text",
    "id": "mwStM7ajb4gH"
   },
   "source": [
    "##Check GPU configured"
   ]
  },
  {
   "cell_type": "code",
   "execution_count": null,
   "metadata": {},
   "outputs": [],
   "source": [
    "#Since whole code compatible for Tensorflow 1.x we import that only\n",
    "%tensorflow_version 1.x\n",
    "import tensorflow\n",
    "print(tensorflow.__version__)"
   ]
  },
  {
   "cell_type": "code",
   "execution_count": 0,
   "metadata": {
    "colab": {},
    "colab_type": "code",
    "id": "OkrZcAhwcb-Z"
   },
   "outputs": [],
   "source": [
    "config = tf.ConfigProto()\n",
    "config.gpu_options.allow_growth = True\n",
    "\n",
    "with tf.device('/gpu:0'):\n",
    "  random_image_gpu = tf.random_normal((100, 100, 100, 3))\n",
    "  net_gpu = tf.layers.conv2d(random_image_gpu, 32, 7)\n",
    "  net_gpu = tf.reduce_sum(net_gpu)\n",
    "  \n",
    "sess = tf.Session(config=config)\n",
    "\n",
    "try:\n",
    "  sess.run(tf.global_variables_initializer())\n",
    "  print('ok')\n",
    "except tf.errors.InvalidArgumentError:\n",
    "  print(\n",
    "      '\\n\\nThis error most likely means that this notebook is not '\n",
    "      'configured to use a GPU.  Change this in Notebook Settings via the '\n",
    "      'command palette (cmd/ctrl-shift-P) or the Edit menu.\\n\\n')\n",
    "  raise"
   ]
  },
  {
   "cell_type": "markdown",
   "metadata": {
    "colab_type": "text",
    "id": "vym6dQqBce1D"
   },
   "source": [
    "##Connecting to Google Drive"
   ]
  },
  {
   "cell_type": "code",
   "execution_count": 0,
   "metadata": {
    "colab": {},
    "colab_type": "code",
    "id": "r16nhtbScuEX"
   },
   "outputs": [],
   "source": [
    "from os.path import join\n",
    "from google.colab import drive\n",
    "\n",
    "ROOT = \"/content/drive\"\n",
    "drive.mount(ROOT)\n",
    "\n",
    "PROJ = \"My Drive\" # This is a custom path.\n",
    "PROJECT_PATH = join(ROOT, PROJ)\n",
    "\n",
    "%cd ~/content\n",
    "%cd drive/My Drive"
   ]
  },
  {
   "cell_type": "markdown",
   "metadata": {
    "colab_type": "text",
    "id": "234nbi9YdFGq"
   },
   "source": [
    "##Git cloneing"
   ]
  },
  {
   "cell_type": "code",
   "execution_count": 0,
   "metadata": {
    "colab": {},
    "colab_type": "code",
    "id": "bfsTatJ4dDo7"
   },
   "outputs": [],
   "source": [
    "!git clone https://github.com/dodandeniya/panda-model.git\n",
    "%cd panda-model\n",
    "!git clone https://github.com/tensorflow/models.git"
   ]
  },
  {
   "cell_type": "markdown",
   "metadata": {
    "colab_type": "text",
    "id": "xhWhFly8dpo6"
   },
   "source": [
    "##Creating blank images"
   ]
  },
  {
   "cell_type": "code",
   "execution_count": 0,
   "metadata": {
    "colab": {},
    "colab_type": "code",
    "id": "vm3XFTYodq_x"
   },
   "outputs": [],
   "source": [
    "%cd annotations\n",
    "\n",
    "!mkdir trimaps\n",
    "\n",
    "import os\n",
    "from PIL import Image\n",
    "image = Image.new('RGB', (300, 300))\n",
    "\n",
    "for filename in os.listdir('xmls'):\n",
    "  filename = os.path.splitext(filename)[0]\n",
    "  image.save('trimaps/' + filename + '.png')"
   ]
  },
  {
   "cell_type": "markdown",
   "metadata": {
    "colab_type": "text",
    "id": "HeqE4yyUd_04"
   },
   "source": [
    "##Compile object_detection API"
   ]
  },
  {
   "cell_type": "code",
   "execution_count": 0,
   "metadata": {
    "colab": {},
    "colab_type": "code",
    "id": "8kcbJr4LeA3H"
   },
   "outputs": [],
   "source": [
    "%cd ~\n",
    "%cd /content\n",
    "%cd drive/My Drive/panda-model/models/research\n",
    "!pwd\n",
    "!protoc object_detection/protos/*.proto --python_out=."
   ]
  },
  {
   "cell_type": "markdown",
   "metadata": {
    "colab_type": "text",
    "id": "55piJ18_ildy"
   },
   "source": [
    "## Adding system variables"
   ]
  },
  {
   "cell_type": "code",
   "execution_count": 0,
   "metadata": {
    "colab": {},
    "colab_type": "code",
    "id": "1Hd32Y8Zipwd"
   },
   "outputs": [],
   "source": [
    "%cd ~\n",
    "%cd /content\n",
    "%cd drive/My Drive/panda-model/\n",
    "import os\n",
    "os.environ['PYTHONPATH'] += ':/content/drive/My Drive/panda-model/models/research/:/content/drive/My Drive/panda-model/models/research/slim/'\n",
    "os.environ['PYTHONPATH'] += ':/content/drive/My Drive/panda-model/models/research/:/content/drive/My Drive/panda-model/models/research/object_detection/'\n",
    "!python models/research/object_detection/builders/model_builder_test.py"
   ]
  },
  {
   "cell_type": "markdown",
   "metadata": {
    "colab_type": "text",
    "id": "SEBAfvGui3Gy"
   },
   "source": [
    "##Generate traning and validation dataset"
   ]
  },
  {
   "cell_type": "code",
   "execution_count": 0,
   "metadata": {
    "colab": {},
    "colab_type": "code",
    "id": "YIvHYBKrjGL_"
   },
   "outputs": [],
   "source": [
    "!python create_tf_record.py \\\n",
    "    --data_dir=!pwd \\\n",
    "    --output_dir=!pwd"
   ]
  },
  {
   "cell_type": "markdown",
   "metadata": {
    "colab_type": "text",
    "id": "6ftFUWvejLpg"
   },
   "source": [
    "##Download and unzip pre-trained model"
   ]
  },
  {
   "cell_type": "code",
   "execution_count": 0,
   "metadata": {
    "colab": {},
    "colab_type": "code",
    "id": "piIvu4L3jbpa"
   },
   "outputs": [],
   "source": [
    "import os\n",
    "import shutil\n",
    "import glob\n",
    "import urllib\n",
    "import tarfile\n",
    "import urllib.request\n",
    "\n",
    "\n",
    "MODEL = 'ssd_mobilenet_v1_coco_2018_01_28'\n",
    "MODEL_FILE = MODEL + '.tar.gz'\n",
    "DOWNLOAD_BASE = 'http://download.tensorflow.org/models/object_detection/'\n",
    "DEST_DIR = 'pretrained_model'\n",
    "\n",
    "!mkdir \"pretrained_model\"\n",
    "\n",
    "if not (os.path.exists(MODEL_FILE)):\n",
    "  opener = urllib.request.URLopener()\n",
    "  opener.retrieve(DOWNLOAD_BASE + MODEL_FILE, MODEL_FILE)\n",
    "\n",
    "tar = tarfile.open(MODEL_FILE)\n",
    "tar.extractall()\n",
    "tar.close()\n",
    "\n",
    "os.remove(MODEL_FILE)\n",
    "if (os.path.exists(DEST_DIR)):\n",
    "  shutil.rmtree(DEST_DIR)\n",
    "os.rename(MODEL, DEST_DIR)"
   ]
  },
  {
   "cell_type": "markdown",
   "metadata": {
    "colab_type": "text",
    "id": "thNF2Bp2jeZ0"
   },
   "source": [
    "##Modify pipline.config file"
   ]
  },
  {
   "cell_type": "code",
   "execution_count": 0,
   "metadata": {
    "colab": {},
    "colab_type": "code",
    "id": "sGjuUXDijv39"
   },
   "outputs": [],
   "source": [
    "import re\n",
    "\n",
    "filename = '/content/drive/My Drive/panda-model/pretrained_model/pipeline.config'\n",
    "with open(filename) as f:\n",
    "  s = f.read()\n",
    "with open(filename, 'w') as f:\n",
    "  s = re.sub('PATH_TO_BE_CONFIGURED/model.ckpt', '/content/drive/My Drive/panda-model/pretrained_model/model.ckpt', s)\n",
    "  s = re.sub('PATH_TO_BE_CONFIGURED/mscoco_train.record', '/content/drive/My Drive/panda-model/train.record', s)\n",
    "  s = re.sub('PATH_TO_BE_CONFIGURED/mscoco_val.record', '/content/drive/My Drive/panda-model/val.record', s)\n",
    "  s = re.sub('PATH_TO_BE_CONFIGURED/mscoco_label_map.pbtxt', '/content/drive/My Drive/panda-model/annotations/label_map.pbtxt', s)\n",
    "  f.write(s)"
   ]
  },
  {
   "cell_type": "markdown",
   "metadata": {
    "colab_type": "text",
    "id": "q2eK77LZj_-v"
   },
   "source": [
    "##Train new model"
   ]
  },
  {
   "cell_type": "code",
   "execution_count": 0,
   "metadata": {
    "colab": {},
    "colab_type": "code",
    "id": "s1vgKcfHkRhF"
   },
   "outputs": [],
   "source": [
    "%cd ~\n",
    "%cd /content\n",
    "%cd drive/My Drive/panda-model/\n",
    "!python models/research/object_detection/model_main.py \\\n",
    "    --pipeline_config_path=\"/content/drive/My Drive/panda-model/pretrained_model/pipeline.config\" \\\n",
    "    --model_dir=\"/content/drive/My Drive/panda-model/trained\" \\\n",
    "    --alsologtostderr \\\n",
    "    --num_train_steps=40000"
   ]
  },
  {
   "cell_type": "markdown",
   "metadata": {
    "colab_type": "text",
    "id": "m2en1HF3k30Y"
   },
   "source": [
    "##Finetune new trained model"
   ]
  },
  {
   "cell_type": "code",
   "execution_count": 0,
   "metadata": {
    "colab": {},
    "colab_type": "code",
    "id": "lsefU33_k_BZ"
   },
   "outputs": [],
   "source": [
    "import os\n",
    "lst = os.listdir('trained')\n",
    "lf = filter(lambda k: 'model.ckpt-' in k, lst)\n",
    "last_model = sorted(lf)[-1].replace('.meta', '')\n",
    "\n",
    "!python models/research/object_detection/export_inference_graph.py \\\n",
    "    --input_type=image_tensor \\\n",
    "    --pipeline_config_path=\"/content/drive/My Drive/panda-model/pretrained_model/pipeline.config\" \\\n",
    "    --output_directory=fine_tuned_model \\\n",
    "    --trained_checkpoint_prefix=trained/$last_model"
   ]
  },
  {
   "cell_type": "markdown",
   "metadata": {
    "colab_type": "text",
    "id": "NgwyAf0fmEZT"
   },
   "source": [
    "##Validation"
   ]
  },
  {
   "cell_type": "code",
   "execution_count": 0,
   "metadata": {
    "colab": {},
    "colab_type": "code",
    "id": "CQ25tCGrmITA"
   },
   "outputs": [],
   "source": [
    "%cd ~\n",
    "%cd /content\n",
    "%cd drive/My Drive/panda-model/models/research/object_detection/\n",
    "\n",
    "import numpy as np\n",
    "import os\n",
    "import six.moves.urllib as urllib\n",
    "import sys\n",
    "import tarfile\n",
    "import tensorflow as tf\n",
    "import zipfile\n",
    "\n",
    "from collections import defaultdict\n",
    "from io import StringIO\n",
    "from matplotlib import pyplot as plt\n",
    "from PIL import Image\n",
    "\n",
    "# This is needed since the notebook is stored in the object_detection folder.\n",
    "sys.path.append(\"..\")\n",
    "from object_detection.utils import ops as utils_ops\n",
    "\n",
    "# This is needed to display the images.\n",
    "%matplotlib inline\n",
    "\n",
    "from utils import label_map_util\n",
    "from utils import visualization_utils as vis_util\n",
    "\n",
    "# What model to download.\n",
    "# Path to frozen detection graph. This is the actual model that is used for the object detection.\n",
    "PATH_TO_CKPT = '/content/drive/My Drive/panda-model/fine_tuned_model' + '/frozen_inference_graph.pb'\n",
    "\n",
    "# List of the strings that is used to add correct label for each box.\n",
    "PATH_TO_LABELS = os.path.join('/content/drive/My Drive/panda-model/annotations', 'label_map.pbtxt')\n",
    "\n",
    "NUM_CLASSES = 2\n",
    "\n",
    "detection_graph = tf.Graph()\n",
    "with detection_graph.as_default():\n",
    "  od_graph_def = tf.GraphDef()\n",
    "  with tf.gfile.GFile(PATH_TO_CKPT, 'rb') as fid:\n",
    "    serialized_graph = fid.read()\n",
    "    od_graph_def.ParseFromString(serialized_graph)\n",
    "    tf.import_graph_def(od_graph_def, name='')\n",
    "       \n",
    "    \n",
    "label_map = label_map_util.load_labelmap(PATH_TO_LABELS)\n",
    "categories = label_map_util.convert_label_map_to_categories(label_map, max_num_classes=NUM_CLASSES, use_display_name=True)\n",
    "category_index = label_map_util.create_category_index(categories)\n",
    "\n",
    "def load_image_into_numpy_array(image):\n",
    "  (im_width, im_height) = image.size\n",
    "  return np.array(image.getdata()).reshape(\n",
    "      (im_height, im_width, 3)).astype(np.uint8)\n",
    "\n",
    "# If you want to test the code with your images, just add path to the images to the TEST_IMAGE_PATHS.\n",
    "PATH_TO_TEST_IMAGES_DIR = '/content/drive/My Drive/panda-model/test/'\n",
    "TEST_IMAGE_PATHS = [ os.path.join(PATH_TO_TEST_IMAGES_DIR, 'image{}.jpg'.format(i)) for i in range(1, 6) ]\n",
    "\n",
    "# Size, in inches, of the output images.\n",
    "IMAGE_SIZE = (12, 8)\n",
    "\n",
    "\n",
    "\n",
    "\n",
    "def run_inference_for_single_image(image, graph):\n",
    "  with graph.as_default():\n",
    "    with tf.Session() as sess:\n",
    "      # Get handles to input and output tensors\n",
    "      ops = tf.get_default_graph().get_operations()\n",
    "      all_tensor_names = {output.name for op in ops for output in op.outputs}\n",
    "      tensor_dict = {}\n",
    "      for key in [\n",
    "          'num_detections', 'detection_boxes', 'detection_scores',\n",
    "          'detection_classes', 'detection_masks'\n",
    "      ]:\n",
    "        tensor_name = key + ':0'\n",
    "        if tensor_name in all_tensor_names:\n",
    "          tensor_dict[key] = tf.get_default_graph().get_tensor_by_name(\n",
    "              tensor_name)\n",
    "      if 'detection_masks' in tensor_dict:\n",
    "        # The following processing is only for single image\n",
    "        detection_boxes = tf.squeeze(tensor_dict['detection_boxes'], [0])\n",
    "        detection_masks = tf.squeeze(tensor_dict['detection_masks'], [0])\n",
    "        # Reframe is required to translate mask from box coordinates to image coordinates and fit the image size.\n",
    "        real_num_detection = tf.cast(tensor_dict['num_detections'][0], tf.int32)\n",
    "        detection_boxes = tf.slice(detection_boxes, [0, 0], [real_num_detection, -1])\n",
    "        detection_masks = tf.slice(detection_masks, [0, 0, 0], [real_num_detection, -1, -1])\n",
    "        detection_masks_reframed = utils_ops.reframe_box_masks_to_image_masks(\n",
    "            detection_masks, detection_boxes, image.shape[0], image.shape[1])\n",
    "        detection_masks_reframed = tf.cast(\n",
    "            tf.greater(detection_masks_reframed, 0.5), tf.uint8)\n",
    "        # Follow the convention by adding back the batch dimension\n",
    "        tensor_dict['detection_masks'] = tf.expand_dims(\n",
    "            detection_masks_reframed, 0)\n",
    "      image_tensor = tf.get_default_graph().get_tensor_by_name('image_tensor:0')\n",
    "\n",
    "      # Run inference\n",
    "      output_dict = sess.run(tensor_dict,\n",
    "                             feed_dict={image_tensor: np.expand_dims(image, 0)})\n",
    "\n",
    "      # all outputs are float32 numpy arrays, so convert types as appropriate\n",
    "      output_dict['num_detections'] = int(output_dict['num_detections'][0])\n",
    "      output_dict['detection_classes'] = output_dict[\n",
    "          'detection_classes'][0].astype(np.uint8)\n",
    "      output_dict['detection_boxes'] = output_dict['detection_boxes'][0]\n",
    "      output_dict['detection_scores'] = output_dict['detection_scores'][0]\n",
    "      if 'detection_masks' in output_dict:\n",
    "        output_dict['detection_masks'] = output_dict['detection_masks'][0]\n",
    "  return output_dict\n",
    "\n",
    "\n",
    "\n",
    "\n",
    "for image_path in TEST_IMAGE_PATHS:\n",
    "  image = Image.open(image_path)\n",
    "  # the array based representation of the image will be used later in order to prepare the\n",
    "  # result image with boxes and labels on it.\n",
    "  image_np = load_image_into_numpy_array(image)\n",
    "  # Expand dimensions since the model expects images to have shape: [1, None, None, 3]\n",
    "  image_np_expanded = np.expand_dims(image_np, axis=0)\n",
    "  # Actual detection.\n",
    "  output_dict = run_inference_for_single_image(image_np, detection_graph)\n",
    "  # Visualization of the results of a detection.\n",
    "  vis_util.visualize_boxes_and_labels_on_image_array(\n",
    "      image_np,\n",
    "      output_dict['detection_boxes'],\n",
    "      output_dict['detection_classes'],\n",
    "      output_dict['detection_scores'],\n",
    "      category_index,\n",
    "      instance_masks=output_dict.get('detection_masks'),\n",
    "      use_normalized_coordinates=True,\n",
    "      line_thickness=8)\n",
    "  plt.figure(figsize=IMAGE_SIZE)\n",
    "  plt.imshow(image_np)"
   ]
  }
 ],
 "metadata": {
  "accelerator": "GPU",
  "colab": {
   "collapsed_sections": [],
   "name": "panda-model.ipynb",
   "provenance": [],
   "version": "0.3.2"
  },
  "kernelspec": {
   "display_name": "Python 3",
   "language": "python",
   "name": "python3"
  },
  "language_info": {
   "codemirror_mode": {
    "name": "ipython",
    "version": 3
   },
   "file_extension": ".py",
   "mimetype": "text/x-python",
   "name": "python",
   "nbconvert_exporter": "python",
   "pygments_lexer": "ipython3",
   "version": "3.6.9"
  }
 },
 "nbformat": 4,
 "nbformat_minor": 1
}
